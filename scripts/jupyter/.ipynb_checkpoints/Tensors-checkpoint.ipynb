{
 "cells": [
  {
   "cell_type": "markdown",
   "metadata": {},
   "source": [
    "# Numpy\n",
    "\n",
    "> Testing the Markdown cell for Jupyter"
   ]
  },
  {
   "cell_type": "code",
   "execution_count": 2,
   "metadata": {},
   "outputs": [],
   "source": [
    "import numpy as np\n",
    "import matplotlib.pyplot as plt"
   ]
  },
  {
   "cell_type": "code",
   "execution_count": 9,
   "metadata": {},
   "outputs": [
    {
     "data": {
      "text/plain": [
       "array([[-0.10127068,  1.0783622 ,  1.74201184, -0.61248486, -0.52432316],\n",
       "       [ 0.81827387,  0.20192492, -1.77025591,  1.06556675,  0.84223472],\n",
       "       [ 0.46421684,  0.75517303, -0.17419617,  1.19251025,  2.32644927],\n",
       "       [-0.16157992, -1.64529274, -0.4161696 , -1.2623643 , -0.84932146],\n",
       "       [-0.63998402, -0.29495093, -1.20989945, -0.40472503, -0.42441366]])"
      ]
     },
     "execution_count": 9,
     "metadata": {},
     "output_type": "execute_result"
    }
   ],
   "source": [
    "x = np.random.randn(5,5)\n",
    "x"
   ]
  },
  {
   "cell_type": "markdown",
   "metadata": {},
   "source": [
    "# Torch\n"
   ]
  },
  {
   "cell_type": "code",
   "execution_count": 10,
   "metadata": {},
   "outputs": [],
   "source": [
    "import torch\n",
    "import torch.nn as nn"
   ]
  },
  {
   "cell_type": "markdown",
   "metadata": {},
   "source": [
    "### Broadcast Example\n",
    "\n",
    "* Broadcast Example，当两个Tensor维度数目不一致，仅能支持该D的维度为1的时候\n",
    "* 看作将小的那个Tensor进行复制到等大，再做Element-wise Mult"
   ]
  },
  {
   "cell_type": "code",
   "execution_count": 42,
   "metadata": {},
   "outputs": [
    {
     "name": "stdout",
     "output_type": "stream",
     "text": [
      "torch.Size([1, 2, 2, 4])\n",
      "torch.Size([1, 2, 2, 4])\n"
     ]
    },
    {
     "data": {
      "text/plain": [
       "tensor([[[[-0.2139, -0.4888, -0.9831,  1.2147],\n",
       "          [ 1.0977,  0.4931, -1.5109, -1.1844]],\n",
       "\n",
       "         [[-0.2342,  0.4631,  0.2850, -0.3518],\n",
       "          [ 0.1861,  0.4988,  0.4406, -0.3824]]]])"
      ]
     },
     "execution_count": 42,
     "metadata": {},
     "output_type": "execute_result"
    }
   ],
   "source": [
    "X0 = torch.ones([2,2,4])\n",
    "X1 = torch.randn([1,2,2,4])\n",
    "Y0 = torch.ones([1,1,2,1])\n",
    "print((X0*Y0).shape)\n",
    "print((X1*Y0).shape)\n",
    "# (X*Y)[0,:,:,2]\n",
    "(X1*Y0)"
   ]
  },
  {
   "cell_type": "markdown",
   "metadata": {},
   "source": [
    "### reshape Ops"
   ]
  },
  {
   "cell_type": "code",
   "execution_count": 49,
   "metadata": {},
   "outputs": [
    {
     "data": {
      "text/plain": [
       "torch.Size([1, 2, 2])"
      ]
     },
     "execution_count": 49,
     "metadata": {},
     "output_type": "execute_result"
    }
   ],
   "source": [
    "X1 = torch.randn([1,2,2,4])\n",
    "# X1.reshape([-1,1,1,2]).shape\n",
    "X1[:,:,:,0].shape"
   ]
  },
  {
   "cell_type": "code",
   "execution_count": null,
   "metadata": {},
   "outputs": [],
   "source": []
  }
 ],
 "metadata": {
  "kernelspec": {
   "display_name": "Python 3",
   "language": "python",
   "name": "python3"
  },
  "language_info": {
   "codemirror_mode": {
    "name": "ipython",
    "version": 3
   },
   "file_extension": ".py",
   "mimetype": "text/x-python",
   "name": "python",
   "nbconvert_exporter": "python",
   "pygments_lexer": "ipython3",
   "version": "3.6.9"
  }
 },
 "nbformat": 4,
 "nbformat_minor": 2
}
